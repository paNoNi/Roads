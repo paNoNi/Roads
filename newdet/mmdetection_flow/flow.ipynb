{
 "cells": [
  {
   "cell_type": "code",
   "execution_count": 16,
   "metadata": {
    "collapsed": true,
    "pycharm": {
     "name": "#%%\n"
    }
   },
   "outputs": [
    {
     "name": "stderr",
     "output_type": "stream",
     "text": [
      "Town: Town03 | Waypoint: waypoint_99: 100%|██████████| 169/169 [29:17<00:00, 10.40s/it]\n",
      "Town: Town05 | Waypoint: waypoint_110:  10%|▉         | 15/156 [02:44<25:44, 10.95s/it]\n"
     ]
    },
    {
     "ename": "KeyboardInterrupt",
     "evalue": "",
     "output_type": "error",
     "traceback": [
      "\u001B[1;31m---------------------------------------------------------------------------\u001B[0m",
      "\u001B[1;31mKeyboardInterrupt\u001B[0m                         Traceback (most recent call last)",
      "Cell \u001B[1;32mIn[16], line 95\u001B[0m\n\u001B[0;32m     93\u001B[0m     mask \u001B[38;5;241m=\u001B[39m Image\u001B[38;5;241m.\u001B[39mopen(os\u001B[38;5;241m.\u001B[39mpath\u001B[38;5;241m.\u001B[39mjoin(masks_path, seg_file))\n\u001B[0;32m     94\u001B[0m     mask \u001B[38;5;241m=\u001B[39m np\u001B[38;5;241m.\u001B[39marray(mask)[:, :, :\u001B[38;5;241m3\u001B[39m]\n\u001B[1;32m---> 95\u001B[0m     mask \u001B[38;5;241m=\u001B[39m \u001B[43miSAID_convert_from_color\u001B[49m\u001B[43m(\u001B[49m\u001B[43mmask\u001B[49m\u001B[43m)\u001B[49m\n\u001B[0;32m     96\u001B[0m     Image\u001B[38;5;241m.\u001B[39mfromarray(mask)\u001B[38;5;241m.\u001B[39msave(os\u001B[38;5;241m.\u001B[39mpath\u001B[38;5;241m.\u001B[39mjoin(copy_path_ann, new_seg_name))\n\u001B[0;32m     98\u001B[0m t\u001B[38;5;241m.\u001B[39mset_description_str(\u001B[38;5;124mf\u001B[39m\u001B[38;5;124m'\u001B[39m\u001B[38;5;124mTown: \u001B[39m\u001B[38;5;132;01m{\u001B[39;00mtown_name\u001B[38;5;132;01m}\u001B[39;00m\u001B[38;5;124m | Waypoint: \u001B[39m\u001B[38;5;132;01m{\u001B[39;00mwaypoint\u001B[38;5;132;01m}\u001B[39;00m\u001B[38;5;124m'\u001B[39m)\n",
      "Cell \u001B[1;32mIn[16], line 32\u001B[0m, in \u001B[0;36miSAID_convert_from_color\u001B[1;34m(arr_3d, palette)\u001B[0m\n\u001B[0;32m     30\u001B[0m arr_2d \u001B[38;5;241m=\u001B[39m np\u001B[38;5;241m.\u001B[39mzeros((arr_3d\u001B[38;5;241m.\u001B[39mshape[\u001B[38;5;241m0\u001B[39m], arr_3d\u001B[38;5;241m.\u001B[39mshape[\u001B[38;5;241m1\u001B[39m]), dtype\u001B[38;5;241m=\u001B[39mnp\u001B[38;5;241m.\u001B[39muint8)\n\u001B[0;32m     31\u001B[0m \u001B[38;5;28;01mfor\u001B[39;00m c, i \u001B[38;5;129;01min\u001B[39;00m palette\u001B[38;5;241m.\u001B[39mitems():\n\u001B[1;32m---> 32\u001B[0m     m \u001B[38;5;241m=\u001B[39m np\u001B[38;5;241m.\u001B[39mall(\u001B[43marr_3d\u001B[49m\u001B[43m \u001B[49m\u001B[38;5;241;43m==\u001B[39;49m\u001B[43m \u001B[49m\u001B[43mnp\u001B[49m\u001B[38;5;241;43m.\u001B[39;49m\u001B[43marray\u001B[49m\u001B[43m(\u001B[49m\u001B[43mc\u001B[49m\u001B[43m)\u001B[49m\u001B[38;5;241;43m.\u001B[39;49m\u001B[43mreshape\u001B[49m\u001B[43m(\u001B[49m\u001B[38;5;241;43m1\u001B[39;49m\u001B[43m,\u001B[49m\u001B[43m \u001B[49m\u001B[38;5;241;43m1\u001B[39;49m\u001B[43m,\u001B[49m\u001B[43m \u001B[49m\u001B[38;5;241;43m3\u001B[39;49m\u001B[43m)\u001B[49m, axis\u001B[38;5;241m=\u001B[39m\u001B[38;5;241m2\u001B[39m)\n\u001B[0;32m     33\u001B[0m     arr_2d[m] \u001B[38;5;241m=\u001B[39m i\n\u001B[0;32m     34\u001B[0m \u001B[38;5;28;01mreturn\u001B[39;00m arr_2d\n",
      "\u001B[1;31mKeyboardInterrupt\u001B[0m: "
     ]
    }
   ],
   "source": [
    "import random\n",
    "import shutil\n",
    "from PIL import Image\n",
    "import numpy as np\n",
    "from tqdm import tqdm\n",
    "import os\n",
    "\n",
    "PALLETE = {(0, 0, 142) : 0,\n",
    " (45, 60, 150) : 1,\n",
    " (70, 70, 70) : 2,\n",
    " (70, 130, 180) : 3,\n",
    " (81, 0, 81) : 4,\n",
    " (100, 40, 40) : 5,\n",
    " (102, 102, 156) : 6,\n",
    " (107, 142, 35) : 7,\n",
    " (110, 190, 160) : 8,\n",
    " (128, 64, 128) : 9,\n",
    " (145, 170, 100) : 10,\n",
    " (150, 100, 100) : 11,\n",
    " (153, 153, 153) : 12,\n",
    " (157, 234, 50) : 13,\n",
    " (170, 120, 50) : 14,\n",
    " (220, 220, 0) : 15,\n",
    " (230, 150, 140) : 16,\n",
    " (244, 35, 232) : 17,\n",
    " (250, 170, 30) : 18}\n",
    "\n",
    "def iSAID_convert_from_color(arr_3d, palette=PALLETE):\n",
    "    \"\"\"RGB-color encoding to grayscale labels.\"\"\"\n",
    "    arr_2d = np.zeros((arr_3d.shape[0], arr_3d.shape[1]), dtype=np.uint8)\n",
    "    for c, i in palette.items():\n",
    "        m = np.all(arr_3d == np.array(c).reshape(1, 1, 3), axis=2)\n",
    "        arr_2d[m] = i\n",
    "    return arr_2d\n",
    "\n",
    "PATH = f'../data/town/'\n",
    "\n",
    "new_dataset_path = os.path.join('../data', 'formatted_dataset')\n",
    "os.mkdir(new_dataset_path)\n",
    "\n",
    "img_dir = os.path.join(new_dataset_path, 'img_dir')\n",
    "ann_dir = os.path.join(new_dataset_path, 'ann_dir')\n",
    "\n",
    "os.mkdir(img_dir)\n",
    "os.mkdir(ann_dir)\n",
    "\n",
    "new_dataset_train_path_img = os.path.join(img_dir, 'train')\n",
    "new_dataset_test_path_img = os.path.join(img_dir, 'test')\n",
    "new_dataset_val_path_img = os.path.join(img_dir, 'val')\n",
    "os.mkdir(new_dataset_train_path_img)\n",
    "os.mkdir(new_dataset_test_path_img)\n",
    "os.mkdir(new_dataset_val_path_img)\n",
    "\n",
    "\n",
    "new_dataset_train_path_ann = os.path.join(ann_dir, 'train')\n",
    "new_dataset_test_path_ann = os.path.join(ann_dir, 'test')\n",
    "new_dataset_val_path_ann = os.path.join(ann_dir, 'val')\n",
    "os.mkdir(new_dataset_train_path_ann)\n",
    "os.mkdir(new_dataset_test_path_ann)\n",
    "os.mkdir(new_dataset_val_path_ann)\n",
    "\n",
    "towns_path = os.listdir(PATH)\n",
    "\n",
    "for town_name in towns_path:\n",
    "    town_path = os.path.join(PATH, town_name)\n",
    "    waypoints = os.listdir(town_path)\n",
    "    with tqdm(total=len(waypoints)) as t:\n",
    "        for waypoint in waypoints:\n",
    "            waypoint_path = os.path.join(town_path, waypoint)\n",
    "            images_path = os.path.join(waypoint_path, 'rgb')\n",
    "            masks_path = os.path.join(waypoint_path, 'seg')\n",
    "            image_list = os.listdir(images_path)\n",
    "            mask_list = os.listdir(masks_path)\n",
    "            for image in image_list:\n",
    "                train_test_val = random.randint(0, 10)\n",
    "                new_image_name = image.replace('_rgb', '')\n",
    "                new_image_name = new_image_name.replace('.', '_img.')\n",
    "\n",
    "                if train_test_val <= 7:\n",
    "                    copy_path_img = new_dataset_train_path_img\n",
    "                    copy_path_ann = new_dataset_train_path_ann\n",
    "                elif train_test_val <= 9:\n",
    "                    copy_path_img = new_dataset_test_path_img\n",
    "                    copy_path_ann = new_dataset_test_path_ann\n",
    "                else:\n",
    "                    copy_path_img = new_dataset_val_path_img\n",
    "                    copy_path_ann = new_dataset_val_path_ann\n",
    "\n",
    "                shutil.copy2(os.path.join(images_path, image), os.path.join(copy_path_img, new_image_name))\n",
    "                seg_file = image.replace('rgb', 'seg')\n",
    "                seg_file = seg_file.replace('.', '_color.')\n",
    "                new_seg_name = new_image_name.replace('_img', '_mask')\n",
    "                mask = Image.open(os.path.join(masks_path, seg_file))\n",
    "                mask = np.array(mask)[:, :, :3]\n",
    "                mask = iSAID_convert_from_color(mask)\n",
    "                Image.fromarray(mask).save(os.path.join(copy_path_ann, new_seg_name))\n",
    "\n",
    "            t.set_description_str(f'Town: {town_name} | Waypoint: {waypoint}')\n",
    "            t.update(1)\n"
   ]
  },
  {
   "cell_type": "code",
   "execution_count": 17,
   "outputs": [],
   "source": [
    "from mmcv import Config\n",
    "cfg = Config.fromfile('config.py')"
   ],
   "metadata": {
    "collapsed": false,
    "pycharm": {
     "name": "#%%\n"
    }
   }
  },
  {
   "cell_type": "code",
   "execution_count": 18,
   "outputs": [
    {
     "name": "stderr",
     "output_type": "stream",
     "text": [
      "2023-02-06 11:36:13,941 - mmseg - INFO - Loaded 1579 images\n",
      "C:\\MySpace\\Programs\\anaconda3\\envs\\cvenv\\lib\\site-packages\\mmseg\\models\\backbones\\resnet.py:431: UserWarning: DeprecationWarning: pretrained is a deprecated, please use \"init_cfg\" instead\n",
      "  warnings.warn('DeprecationWarning: pretrained is a deprecated, '\n",
      "C:\\MySpace\\Programs\\anaconda3\\envs\\cvenv\\lib\\site-packages\\mmseg\\models\\losses\\cross_entropy_loss.py:235: UserWarning: Default ``avg_non_ignore`` is False, if you would like to ignore the certain label and average loss over non-ignore labels, which is the same with PyTorch official cross_entropy, set ``avg_non_ignore=True``.\n",
      "  warnings.warn(\n",
      "2023-02-06 11:36:14,356 - mmseg - INFO - Loaded 446 images\n",
      "2023-02-06 11:36:14,357 - mmseg - INFO - Start running, host: Nitcu@Inchore, work_dir: C:\\MySpace\\Projects\\Roads\\mmdetection_flow\n",
      "2023-02-06 11:36:14,358 - mmseg - INFO - Hooks will be executed in the following order:\n",
      "before_run:\n",
      "(VERY_HIGH   ) PolyLrUpdaterHook                  \n",
      "(NORMAL      ) CheckpointHook                     \n",
      "(LOW         ) EvalHook                           \n",
      "(VERY_LOW    ) TextLoggerHook                     \n",
      "(VERY_LOW    ) TensorboardLoggerHook              \n",
      " -------------------- \n",
      "before_train_epoch:\n",
      "(VERY_HIGH   ) PolyLrUpdaterHook                  \n",
      "(LOW         ) IterTimerHook                      \n",
      "(LOW         ) EvalHook                           \n",
      "(VERY_LOW    ) TextLoggerHook                     \n",
      "(VERY_LOW    ) TensorboardLoggerHook              \n",
      " -------------------- \n",
      "before_train_iter:\n",
      "(VERY_HIGH   ) PolyLrUpdaterHook                  \n",
      "(LOW         ) IterTimerHook                      \n",
      "(LOW         ) EvalHook                           \n",
      " -------------------- \n",
      "after_train_iter:\n",
      "(ABOVE_NORMAL) OptimizerHook                      \n",
      "(NORMAL      ) CheckpointHook                     \n",
      "(LOW         ) IterTimerHook                      \n",
      "(LOW         ) EvalHook                           \n",
      "(VERY_LOW    ) TextLoggerHook                     \n",
      "(VERY_LOW    ) TensorboardLoggerHook              \n",
      " -------------------- \n",
      "after_train_epoch:\n",
      "(NORMAL      ) CheckpointHook                     \n",
      "(LOW         ) EvalHook                           \n",
      "(VERY_LOW    ) TextLoggerHook                     \n",
      "(VERY_LOW    ) TensorboardLoggerHook              \n",
      " -------------------- \n",
      "before_val_epoch:\n",
      "(LOW         ) IterTimerHook                      \n",
      "(VERY_LOW    ) TextLoggerHook                     \n",
      "(VERY_LOW    ) TensorboardLoggerHook              \n",
      " -------------------- \n",
      "before_val_iter:\n",
      "(LOW         ) IterTimerHook                      \n",
      " -------------------- \n",
      "after_val_iter:\n",
      "(LOW         ) IterTimerHook                      \n",
      " -------------------- \n",
      "after_val_epoch:\n",
      "(VERY_LOW    ) TextLoggerHook                     \n",
      "(VERY_LOW    ) TensorboardLoggerHook              \n",
      " -------------------- \n",
      "after_run:\n",
      "(VERY_LOW    ) TextLoggerHook                     \n",
      "(VERY_LOW    ) TensorboardLoggerHook              \n",
      " -------------------- \n",
      "2023-02-06 11:36:14,359 - mmseg - INFO - workflow: [('train', 1)], max: 40000 iters\n",
      "2023-02-06 11:36:14,359 - mmseg - INFO - Checkpoints will be saved to C:\\MySpace\\Projects\\Roads\\mmdetection_flow by HardDiskBackend.\n"
     ]
    },
    {
     "ename": "OutOfMemoryError",
     "evalue": "CUDA out of memory. Tried to allocate 32.00 MiB (GPU 0; 8.00 GiB total capacity; 7.21 GiB already allocated; 0 bytes free; 7.31 GiB reserved in total by PyTorch) If reserved memory is >> allocated memory try setting max_split_size_mb to avoid fragmentation.  See documentation for Memory Management and PYTORCH_CUDA_ALLOC_CONF",
     "output_type": "error",
     "traceback": [
      "\u001B[1;31m---------------------------------------------------------------------------\u001B[0m",
      "\u001B[1;31mOutOfMemoryError\u001B[0m                          Traceback (most recent call last)",
      "Cell \u001B[1;32mIn[18], line 17\u001B[0m\n\u001B[0;32m     15\u001B[0m \u001B[38;5;66;03m# Create work_dir\u001B[39;00m\n\u001B[0;32m     16\u001B[0m mmcv\u001B[38;5;241m.\u001B[39mmkdir_or_exist(os\u001B[38;5;241m.\u001B[39mpath\u001B[38;5;241m.\u001B[39mabspath(cfg\u001B[38;5;241m.\u001B[39mwork_dir))\n\u001B[1;32m---> 17\u001B[0m \u001B[43mtrain_segmentor\u001B[49m\u001B[43m(\u001B[49m\u001B[43mmodel\u001B[49m\u001B[43m,\u001B[49m\u001B[43m \u001B[49m\u001B[43mdatasets\u001B[49m\u001B[43m,\u001B[49m\u001B[43m \u001B[49m\u001B[43mcfg\u001B[49m\u001B[43m,\u001B[49m\u001B[43m \u001B[49m\u001B[43mdistributed\u001B[49m\u001B[38;5;241;43m=\u001B[39;49m\u001B[38;5;28;43;01mFalse\u001B[39;49;00m\u001B[43m,\u001B[49m\u001B[43m \u001B[49m\u001B[43mvalidate\u001B[49m\u001B[38;5;241;43m=\u001B[39;49m\u001B[38;5;28;43;01mTrue\u001B[39;49;00m\u001B[43m,\u001B[49m\n\u001B[0;32m     18\u001B[0m \u001B[43m                \u001B[49m\u001B[43mmeta\u001B[49m\u001B[38;5;241;43m=\u001B[39;49m\u001B[38;5;28;43mdict\u001B[39;49m\u001B[43m(\u001B[49m\u001B[43m)\u001B[49m\u001B[43m)\u001B[49m\n",
      "File \u001B[1;32mC:\\MySpace\\Programs\\anaconda3\\envs\\cvenv\\lib\\site-packages\\mmseg\\apis\\train.py:194\u001B[0m, in \u001B[0;36mtrain_segmentor\u001B[1;34m(model, dataset, cfg, distributed, validate, timestamp, meta)\u001B[0m\n\u001B[0;32m    192\u001B[0m \u001B[38;5;28;01melif\u001B[39;00m cfg\u001B[38;5;241m.\u001B[39mload_from:\n\u001B[0;32m    193\u001B[0m     runner\u001B[38;5;241m.\u001B[39mload_checkpoint(cfg\u001B[38;5;241m.\u001B[39mload_from)\n\u001B[1;32m--> 194\u001B[0m \u001B[43mrunner\u001B[49m\u001B[38;5;241;43m.\u001B[39;49m\u001B[43mrun\u001B[49m\u001B[43m(\u001B[49m\u001B[43mdata_loaders\u001B[49m\u001B[43m,\u001B[49m\u001B[43m \u001B[49m\u001B[43mcfg\u001B[49m\u001B[38;5;241;43m.\u001B[39;49m\u001B[43mworkflow\u001B[49m\u001B[43m)\u001B[49m\n",
      "File \u001B[1;32mC:\\MySpace\\Programs\\anaconda3\\envs\\cvenv\\lib\\site-packages\\mmcv\\runner\\iter_based_runner.py:144\u001B[0m, in \u001B[0;36mIterBasedRunner.run\u001B[1;34m(self, data_loaders, workflow, max_iters, **kwargs)\u001B[0m\n\u001B[0;32m    142\u001B[0m             \u001B[38;5;28;01mif\u001B[39;00m mode \u001B[38;5;241m==\u001B[39m \u001B[38;5;124m'\u001B[39m\u001B[38;5;124mtrain\u001B[39m\u001B[38;5;124m'\u001B[39m \u001B[38;5;129;01mand\u001B[39;00m \u001B[38;5;28mself\u001B[39m\u001B[38;5;241m.\u001B[39miter \u001B[38;5;241m>\u001B[39m\u001B[38;5;241m=\u001B[39m \u001B[38;5;28mself\u001B[39m\u001B[38;5;241m.\u001B[39m_max_iters:\n\u001B[0;32m    143\u001B[0m                 \u001B[38;5;28;01mbreak\u001B[39;00m\n\u001B[1;32m--> 144\u001B[0m             \u001B[43miter_runner\u001B[49m\u001B[43m(\u001B[49m\u001B[43miter_loaders\u001B[49m\u001B[43m[\u001B[49m\u001B[43mi\u001B[49m\u001B[43m]\u001B[49m\u001B[43m,\u001B[49m\u001B[43m \u001B[49m\u001B[38;5;241;43m*\u001B[39;49m\u001B[38;5;241;43m*\u001B[39;49m\u001B[43mkwargs\u001B[49m\u001B[43m)\u001B[49m\n\u001B[0;32m    146\u001B[0m time\u001B[38;5;241m.\u001B[39msleep(\u001B[38;5;241m1\u001B[39m)  \u001B[38;5;66;03m# wait for some hooks like loggers to finish\u001B[39;00m\n\u001B[0;32m    147\u001B[0m \u001B[38;5;28mself\u001B[39m\u001B[38;5;241m.\u001B[39mcall_hook(\u001B[38;5;124m'\u001B[39m\u001B[38;5;124mafter_epoch\u001B[39m\u001B[38;5;124m'\u001B[39m)\n",
      "File \u001B[1;32mC:\\MySpace\\Programs\\anaconda3\\envs\\cvenv\\lib\\site-packages\\mmcv\\runner\\iter_based_runner.py:64\u001B[0m, in \u001B[0;36mIterBasedRunner.train\u001B[1;34m(self, data_loader, **kwargs)\u001B[0m\n\u001B[0;32m     62\u001B[0m \u001B[38;5;28mself\u001B[39m\u001B[38;5;241m.\u001B[39mdata_batch \u001B[38;5;241m=\u001B[39m data_batch\n\u001B[0;32m     63\u001B[0m \u001B[38;5;28mself\u001B[39m\u001B[38;5;241m.\u001B[39mcall_hook(\u001B[38;5;124m'\u001B[39m\u001B[38;5;124mbefore_train_iter\u001B[39m\u001B[38;5;124m'\u001B[39m)\n\u001B[1;32m---> 64\u001B[0m outputs \u001B[38;5;241m=\u001B[39m \u001B[38;5;28;43mself\u001B[39;49m\u001B[38;5;241;43m.\u001B[39;49m\u001B[43mmodel\u001B[49m\u001B[38;5;241;43m.\u001B[39;49m\u001B[43mtrain_step\u001B[49m\u001B[43m(\u001B[49m\u001B[43mdata_batch\u001B[49m\u001B[43m,\u001B[49m\u001B[43m \u001B[49m\u001B[38;5;28;43mself\u001B[39;49m\u001B[38;5;241;43m.\u001B[39;49m\u001B[43moptimizer\u001B[49m\u001B[43m,\u001B[49m\u001B[43m \u001B[49m\u001B[38;5;241;43m*\u001B[39;49m\u001B[38;5;241;43m*\u001B[39;49m\u001B[43mkwargs\u001B[49m\u001B[43m)\u001B[49m\n\u001B[0;32m     65\u001B[0m \u001B[38;5;28;01mif\u001B[39;00m \u001B[38;5;129;01mnot\u001B[39;00m \u001B[38;5;28misinstance\u001B[39m(outputs, \u001B[38;5;28mdict\u001B[39m):\n\u001B[0;32m     66\u001B[0m     \u001B[38;5;28;01mraise\u001B[39;00m \u001B[38;5;167;01mTypeError\u001B[39;00m(\u001B[38;5;124m'\u001B[39m\u001B[38;5;124mmodel.train_step() must return a dict\u001B[39m\u001B[38;5;124m'\u001B[39m)\n",
      "File \u001B[1;32mC:\\MySpace\\Programs\\anaconda3\\envs\\cvenv\\lib\\site-packages\\mmcv\\parallel\\data_parallel.py:77\u001B[0m, in \u001B[0;36mMMDataParallel.train_step\u001B[1;34m(self, *inputs, **kwargs)\u001B[0m\n\u001B[0;32m     71\u001B[0m         \u001B[38;5;28;01mraise\u001B[39;00m \u001B[38;5;167;01mRuntimeError\u001B[39;00m(\n\u001B[0;32m     72\u001B[0m             \u001B[38;5;124m'\u001B[39m\u001B[38;5;124mmodule must have its parameters and buffers \u001B[39m\u001B[38;5;124m'\u001B[39m\n\u001B[0;32m     73\u001B[0m             \u001B[38;5;124mf\u001B[39m\u001B[38;5;124m'\u001B[39m\u001B[38;5;124mon device \u001B[39m\u001B[38;5;132;01m{\u001B[39;00m\u001B[38;5;28mself\u001B[39m\u001B[38;5;241m.\u001B[39msrc_device_obj\u001B[38;5;132;01m}\u001B[39;00m\u001B[38;5;124m (device_ids[0]) but \u001B[39m\u001B[38;5;124m'\u001B[39m\n\u001B[0;32m     74\u001B[0m             \u001B[38;5;124mf\u001B[39m\u001B[38;5;124m'\u001B[39m\u001B[38;5;124mfound one of them on device: \u001B[39m\u001B[38;5;132;01m{\u001B[39;00mt\u001B[38;5;241m.\u001B[39mdevice\u001B[38;5;132;01m}\u001B[39;00m\u001B[38;5;124m'\u001B[39m)\n\u001B[0;32m     76\u001B[0m inputs, kwargs \u001B[38;5;241m=\u001B[39m \u001B[38;5;28mself\u001B[39m\u001B[38;5;241m.\u001B[39mscatter(inputs, kwargs, \u001B[38;5;28mself\u001B[39m\u001B[38;5;241m.\u001B[39mdevice_ids)\n\u001B[1;32m---> 77\u001B[0m \u001B[38;5;28;01mreturn\u001B[39;00m \u001B[38;5;28;43mself\u001B[39;49m\u001B[38;5;241;43m.\u001B[39;49m\u001B[43mmodule\u001B[49m\u001B[38;5;241;43m.\u001B[39;49m\u001B[43mtrain_step\u001B[49m\u001B[43m(\u001B[49m\u001B[38;5;241;43m*\u001B[39;49m\u001B[43minputs\u001B[49m\u001B[43m[\u001B[49m\u001B[38;5;241;43m0\u001B[39;49m\u001B[43m]\u001B[49m\u001B[43m,\u001B[49m\u001B[43m \u001B[49m\u001B[38;5;241;43m*\u001B[39;49m\u001B[38;5;241;43m*\u001B[39;49m\u001B[43mkwargs\u001B[49m\u001B[43m[\u001B[49m\u001B[38;5;241;43m0\u001B[39;49m\u001B[43m]\u001B[49m\u001B[43m)\u001B[49m\n",
      "File \u001B[1;32mC:\\MySpace\\Programs\\anaconda3\\envs\\cvenv\\lib\\site-packages\\mmseg\\models\\segmentors\\base.py:138\u001B[0m, in \u001B[0;36mBaseSegmentor.train_step\u001B[1;34m(self, data_batch, optimizer, **kwargs)\u001B[0m\n\u001B[0;32m    112\u001B[0m \u001B[38;5;28;01mdef\u001B[39;00m \u001B[38;5;21mtrain_step\u001B[39m(\u001B[38;5;28mself\u001B[39m, data_batch, optimizer, \u001B[38;5;241m*\u001B[39m\u001B[38;5;241m*\u001B[39mkwargs):\n\u001B[0;32m    113\u001B[0m \u001B[38;5;250m    \u001B[39m\u001B[38;5;124;03m\"\"\"The iteration step during training.\u001B[39;00m\n\u001B[0;32m    114\u001B[0m \n\u001B[0;32m    115\u001B[0m \u001B[38;5;124;03m    This method defines an iteration step during training, except for the\u001B[39;00m\n\u001B[1;32m   (...)\u001B[0m\n\u001B[0;32m    136\u001B[0m \u001B[38;5;124;03m            averaging the logs.\u001B[39;00m\n\u001B[0;32m    137\u001B[0m \u001B[38;5;124;03m    \"\"\"\u001B[39;00m\n\u001B[1;32m--> 138\u001B[0m     losses \u001B[38;5;241m=\u001B[39m \u001B[38;5;28;43mself\u001B[39;49m\u001B[43m(\u001B[49m\u001B[38;5;241;43m*\u001B[39;49m\u001B[38;5;241;43m*\u001B[39;49m\u001B[43mdata_batch\u001B[49m\u001B[43m)\u001B[49m\n\u001B[0;32m    139\u001B[0m     loss, log_vars \u001B[38;5;241m=\u001B[39m \u001B[38;5;28mself\u001B[39m\u001B[38;5;241m.\u001B[39m_parse_losses(losses)\n\u001B[0;32m    141\u001B[0m     outputs \u001B[38;5;241m=\u001B[39m \u001B[38;5;28mdict\u001B[39m(\n\u001B[0;32m    142\u001B[0m         loss\u001B[38;5;241m=\u001B[39mloss,\n\u001B[0;32m    143\u001B[0m         log_vars\u001B[38;5;241m=\u001B[39mlog_vars,\n\u001B[0;32m    144\u001B[0m         num_samples\u001B[38;5;241m=\u001B[39m\u001B[38;5;28mlen\u001B[39m(data_batch[\u001B[38;5;124m'\u001B[39m\u001B[38;5;124mimg_metas\u001B[39m\u001B[38;5;124m'\u001B[39m]))\n",
      "File \u001B[1;32mC:\\MySpace\\Programs\\anaconda3\\envs\\cvenv\\lib\\site-packages\\torch\\nn\\modules\\module.py:1194\u001B[0m, in \u001B[0;36mModule._call_impl\u001B[1;34m(self, *input, **kwargs)\u001B[0m\n\u001B[0;32m   1190\u001B[0m \u001B[38;5;66;03m# If we don't have any hooks, we want to skip the rest of the logic in\u001B[39;00m\n\u001B[0;32m   1191\u001B[0m \u001B[38;5;66;03m# this function, and just call forward.\u001B[39;00m\n\u001B[0;32m   1192\u001B[0m \u001B[38;5;28;01mif\u001B[39;00m \u001B[38;5;129;01mnot\u001B[39;00m (\u001B[38;5;28mself\u001B[39m\u001B[38;5;241m.\u001B[39m_backward_hooks \u001B[38;5;129;01mor\u001B[39;00m \u001B[38;5;28mself\u001B[39m\u001B[38;5;241m.\u001B[39m_forward_hooks \u001B[38;5;129;01mor\u001B[39;00m \u001B[38;5;28mself\u001B[39m\u001B[38;5;241m.\u001B[39m_forward_pre_hooks \u001B[38;5;129;01mor\u001B[39;00m _global_backward_hooks\n\u001B[0;32m   1193\u001B[0m         \u001B[38;5;129;01mor\u001B[39;00m _global_forward_hooks \u001B[38;5;129;01mor\u001B[39;00m _global_forward_pre_hooks):\n\u001B[1;32m-> 1194\u001B[0m     \u001B[38;5;28;01mreturn\u001B[39;00m \u001B[43mforward_call\u001B[49m\u001B[43m(\u001B[49m\u001B[38;5;241;43m*\u001B[39;49m\u001B[38;5;28;43minput\u001B[39;49m\u001B[43m,\u001B[49m\u001B[43m \u001B[49m\u001B[38;5;241;43m*\u001B[39;49m\u001B[38;5;241;43m*\u001B[39;49m\u001B[43mkwargs\u001B[49m\u001B[43m)\u001B[49m\n\u001B[0;32m   1195\u001B[0m \u001B[38;5;66;03m# Do not call functions when jit is used\u001B[39;00m\n\u001B[0;32m   1196\u001B[0m full_backward_hooks, non_full_backward_hooks \u001B[38;5;241m=\u001B[39m [], []\n",
      "File \u001B[1;32mC:\\MySpace\\Programs\\anaconda3\\envs\\cvenv\\lib\\site-packages\\mmcv\\runner\\fp16_utils.py:116\u001B[0m, in \u001B[0;36mauto_fp16.<locals>.auto_fp16_wrapper.<locals>.new_func\u001B[1;34m(*args, **kwargs)\u001B[0m\n\u001B[0;32m    113\u001B[0m     \u001B[38;5;28;01mraise\u001B[39;00m \u001B[38;5;167;01mTypeError\u001B[39;00m(\u001B[38;5;124m'\u001B[39m\u001B[38;5;124m@auto_fp16 can only be used to decorate the \u001B[39m\u001B[38;5;124m'\u001B[39m\n\u001B[0;32m    114\u001B[0m                     \u001B[38;5;124mf\u001B[39m\u001B[38;5;124m'\u001B[39m\u001B[38;5;124mmethod of those classes \u001B[39m\u001B[38;5;132;01m{\u001B[39;00msupported_types\u001B[38;5;132;01m}\u001B[39;00m\u001B[38;5;124m'\u001B[39m)\n\u001B[0;32m    115\u001B[0m \u001B[38;5;28;01mif\u001B[39;00m \u001B[38;5;129;01mnot\u001B[39;00m (\u001B[38;5;28mhasattr\u001B[39m(args[\u001B[38;5;241m0\u001B[39m], \u001B[38;5;124m'\u001B[39m\u001B[38;5;124mfp16_enabled\u001B[39m\u001B[38;5;124m'\u001B[39m) \u001B[38;5;129;01mand\u001B[39;00m args[\u001B[38;5;241m0\u001B[39m]\u001B[38;5;241m.\u001B[39mfp16_enabled):\n\u001B[1;32m--> 116\u001B[0m     \u001B[38;5;28;01mreturn\u001B[39;00m \u001B[43mold_func\u001B[49m\u001B[43m(\u001B[49m\u001B[38;5;241;43m*\u001B[39;49m\u001B[43margs\u001B[49m\u001B[43m,\u001B[49m\u001B[43m \u001B[49m\u001B[38;5;241;43m*\u001B[39;49m\u001B[38;5;241;43m*\u001B[39;49m\u001B[43mkwargs\u001B[49m\u001B[43m)\u001B[49m\n\u001B[0;32m    118\u001B[0m \u001B[38;5;66;03m# get the arg spec of the decorated method\u001B[39;00m\n\u001B[0;32m    119\u001B[0m args_info \u001B[38;5;241m=\u001B[39m getfullargspec(old_func)\n",
      "File \u001B[1;32mC:\\MySpace\\Programs\\anaconda3\\envs\\cvenv\\lib\\site-packages\\mmseg\\models\\segmentors\\base.py:108\u001B[0m, in \u001B[0;36mBaseSegmentor.forward\u001B[1;34m(self, img, img_metas, return_loss, **kwargs)\u001B[0m\n\u001B[0;32m     98\u001B[0m \u001B[38;5;250m\u001B[39m\u001B[38;5;124;03m\"\"\"Calls either :func:`forward_train` or :func:`forward_test` depending\u001B[39;00m\n\u001B[0;32m     99\u001B[0m \u001B[38;5;124;03mon whether ``return_loss`` is ``True``.\u001B[39;00m\n\u001B[0;32m    100\u001B[0m \n\u001B[1;32m   (...)\u001B[0m\n\u001B[0;32m    105\u001B[0m \u001B[38;5;124;03mthe outer list indicating test time augmentations.\u001B[39;00m\n\u001B[0;32m    106\u001B[0m \u001B[38;5;124;03m\"\"\"\u001B[39;00m\n\u001B[0;32m    107\u001B[0m \u001B[38;5;28;01mif\u001B[39;00m return_loss:\n\u001B[1;32m--> 108\u001B[0m     \u001B[38;5;28;01mreturn\u001B[39;00m \u001B[38;5;28;43mself\u001B[39;49m\u001B[38;5;241;43m.\u001B[39;49m\u001B[43mforward_train\u001B[49m\u001B[43m(\u001B[49m\u001B[43mimg\u001B[49m\u001B[43m,\u001B[49m\u001B[43m \u001B[49m\u001B[43mimg_metas\u001B[49m\u001B[43m,\u001B[49m\u001B[43m \u001B[49m\u001B[38;5;241;43m*\u001B[39;49m\u001B[38;5;241;43m*\u001B[39;49m\u001B[43mkwargs\u001B[49m\u001B[43m)\u001B[49m\n\u001B[0;32m    109\u001B[0m \u001B[38;5;28;01melse\u001B[39;00m:\n\u001B[0;32m    110\u001B[0m     \u001B[38;5;28;01mreturn\u001B[39;00m \u001B[38;5;28mself\u001B[39m\u001B[38;5;241m.\u001B[39mforward_test(img, img_metas, \u001B[38;5;241m*\u001B[39m\u001B[38;5;241m*\u001B[39mkwargs)\n",
      "File \u001B[1;32mC:\\MySpace\\Programs\\anaconda3\\envs\\cvenv\\lib\\site-packages\\mmseg\\models\\segmentors\\encoder_decoder.py:140\u001B[0m, in \u001B[0;36mEncoderDecoder.forward_train\u001B[1;34m(self, img, img_metas, gt_semantic_seg)\u001B[0m\n\u001B[0;32m    123\u001B[0m \u001B[38;5;28;01mdef\u001B[39;00m \u001B[38;5;21mforward_train\u001B[39m(\u001B[38;5;28mself\u001B[39m, img, img_metas, gt_semantic_seg):\n\u001B[0;32m    124\u001B[0m \u001B[38;5;250m    \u001B[39m\u001B[38;5;124;03m\"\"\"Forward function for training.\u001B[39;00m\n\u001B[0;32m    125\u001B[0m \n\u001B[0;32m    126\u001B[0m \u001B[38;5;124;03m    Args:\u001B[39;00m\n\u001B[1;32m   (...)\u001B[0m\n\u001B[0;32m    137\u001B[0m \u001B[38;5;124;03m        dict[str, Tensor]: a dictionary of loss components\u001B[39;00m\n\u001B[0;32m    138\u001B[0m \u001B[38;5;124;03m    \"\"\"\u001B[39;00m\n\u001B[1;32m--> 140\u001B[0m     x \u001B[38;5;241m=\u001B[39m \u001B[38;5;28;43mself\u001B[39;49m\u001B[38;5;241;43m.\u001B[39;49m\u001B[43mextract_feat\u001B[49m\u001B[43m(\u001B[49m\u001B[43mimg\u001B[49m\u001B[43m)\u001B[49m\n\u001B[0;32m    142\u001B[0m     losses \u001B[38;5;241m=\u001B[39m \u001B[38;5;28mdict\u001B[39m()\n\u001B[0;32m    144\u001B[0m     loss_decode \u001B[38;5;241m=\u001B[39m \u001B[38;5;28mself\u001B[39m\u001B[38;5;241m.\u001B[39m_decode_head_forward_train(x, img_metas,\n\u001B[0;32m    145\u001B[0m                                                   gt_semantic_seg)\n",
      "File \u001B[1;32mC:\\MySpace\\Programs\\anaconda3\\envs\\cvenv\\lib\\site-packages\\mmseg\\models\\segmentors\\encoder_decoder.py:66\u001B[0m, in \u001B[0;36mEncoderDecoder.extract_feat\u001B[1;34m(self, img)\u001B[0m\n\u001B[0;32m     64\u001B[0m \u001B[38;5;28;01mdef\u001B[39;00m \u001B[38;5;21mextract_feat\u001B[39m(\u001B[38;5;28mself\u001B[39m, img):\n\u001B[0;32m     65\u001B[0m \u001B[38;5;250m    \u001B[39m\u001B[38;5;124;03m\"\"\"Extract features from images.\"\"\"\u001B[39;00m\n\u001B[1;32m---> 66\u001B[0m     x \u001B[38;5;241m=\u001B[39m \u001B[38;5;28;43mself\u001B[39;49m\u001B[38;5;241;43m.\u001B[39;49m\u001B[43mbackbone\u001B[49m\u001B[43m(\u001B[49m\u001B[43mimg\u001B[49m\u001B[43m)\u001B[49m\n\u001B[0;32m     67\u001B[0m     \u001B[38;5;28;01mif\u001B[39;00m \u001B[38;5;28mself\u001B[39m\u001B[38;5;241m.\u001B[39mwith_neck:\n\u001B[0;32m     68\u001B[0m         x \u001B[38;5;241m=\u001B[39m \u001B[38;5;28mself\u001B[39m\u001B[38;5;241m.\u001B[39mneck(x)\n",
      "File \u001B[1;32mC:\\MySpace\\Programs\\anaconda3\\envs\\cvenv\\lib\\site-packages\\torch\\nn\\modules\\module.py:1194\u001B[0m, in \u001B[0;36mModule._call_impl\u001B[1;34m(self, *input, **kwargs)\u001B[0m\n\u001B[0;32m   1190\u001B[0m \u001B[38;5;66;03m# If we don't have any hooks, we want to skip the rest of the logic in\u001B[39;00m\n\u001B[0;32m   1191\u001B[0m \u001B[38;5;66;03m# this function, and just call forward.\u001B[39;00m\n\u001B[0;32m   1192\u001B[0m \u001B[38;5;28;01mif\u001B[39;00m \u001B[38;5;129;01mnot\u001B[39;00m (\u001B[38;5;28mself\u001B[39m\u001B[38;5;241m.\u001B[39m_backward_hooks \u001B[38;5;129;01mor\u001B[39;00m \u001B[38;5;28mself\u001B[39m\u001B[38;5;241m.\u001B[39m_forward_hooks \u001B[38;5;129;01mor\u001B[39;00m \u001B[38;5;28mself\u001B[39m\u001B[38;5;241m.\u001B[39m_forward_pre_hooks \u001B[38;5;129;01mor\u001B[39;00m _global_backward_hooks\n\u001B[0;32m   1193\u001B[0m         \u001B[38;5;129;01mor\u001B[39;00m _global_forward_hooks \u001B[38;5;129;01mor\u001B[39;00m _global_forward_pre_hooks):\n\u001B[1;32m-> 1194\u001B[0m     \u001B[38;5;28;01mreturn\u001B[39;00m \u001B[43mforward_call\u001B[49m\u001B[43m(\u001B[49m\u001B[38;5;241;43m*\u001B[39;49m\u001B[38;5;28;43minput\u001B[39;49m\u001B[43m,\u001B[49m\u001B[43m \u001B[49m\u001B[38;5;241;43m*\u001B[39;49m\u001B[38;5;241;43m*\u001B[39;49m\u001B[43mkwargs\u001B[49m\u001B[43m)\u001B[49m\n\u001B[0;32m   1195\u001B[0m \u001B[38;5;66;03m# Do not call functions when jit is used\u001B[39;00m\n\u001B[0;32m   1196\u001B[0m full_backward_hooks, non_full_backward_hooks \u001B[38;5;241m=\u001B[39m [], []\n",
      "File \u001B[1;32mC:\\MySpace\\Programs\\anaconda3\\envs\\cvenv\\lib\\site-packages\\mmseg\\models\\backbones\\resnet.py:671\u001B[0m, in \u001B[0;36mResNet.forward\u001B[1;34m(self, x)\u001B[0m\n\u001B[0;32m    669\u001B[0m \u001B[38;5;28;01mfor\u001B[39;00m i, layer_name \u001B[38;5;129;01min\u001B[39;00m \u001B[38;5;28menumerate\u001B[39m(\u001B[38;5;28mself\u001B[39m\u001B[38;5;241m.\u001B[39mres_layers):\n\u001B[0;32m    670\u001B[0m     res_layer \u001B[38;5;241m=\u001B[39m \u001B[38;5;28mgetattr\u001B[39m(\u001B[38;5;28mself\u001B[39m, layer_name)\n\u001B[1;32m--> 671\u001B[0m     x \u001B[38;5;241m=\u001B[39m \u001B[43mres_layer\u001B[49m\u001B[43m(\u001B[49m\u001B[43mx\u001B[49m\u001B[43m)\u001B[49m\n\u001B[0;32m    672\u001B[0m     \u001B[38;5;28;01mif\u001B[39;00m i \u001B[38;5;129;01min\u001B[39;00m \u001B[38;5;28mself\u001B[39m\u001B[38;5;241m.\u001B[39mout_indices:\n\u001B[0;32m    673\u001B[0m         outs\u001B[38;5;241m.\u001B[39mappend(x)\n",
      "File \u001B[1;32mC:\\MySpace\\Programs\\anaconda3\\envs\\cvenv\\lib\\site-packages\\torch\\nn\\modules\\module.py:1194\u001B[0m, in \u001B[0;36mModule._call_impl\u001B[1;34m(self, *input, **kwargs)\u001B[0m\n\u001B[0;32m   1190\u001B[0m \u001B[38;5;66;03m# If we don't have any hooks, we want to skip the rest of the logic in\u001B[39;00m\n\u001B[0;32m   1191\u001B[0m \u001B[38;5;66;03m# this function, and just call forward.\u001B[39;00m\n\u001B[0;32m   1192\u001B[0m \u001B[38;5;28;01mif\u001B[39;00m \u001B[38;5;129;01mnot\u001B[39;00m (\u001B[38;5;28mself\u001B[39m\u001B[38;5;241m.\u001B[39m_backward_hooks \u001B[38;5;129;01mor\u001B[39;00m \u001B[38;5;28mself\u001B[39m\u001B[38;5;241m.\u001B[39m_forward_hooks \u001B[38;5;129;01mor\u001B[39;00m \u001B[38;5;28mself\u001B[39m\u001B[38;5;241m.\u001B[39m_forward_pre_hooks \u001B[38;5;129;01mor\u001B[39;00m _global_backward_hooks\n\u001B[0;32m   1193\u001B[0m         \u001B[38;5;129;01mor\u001B[39;00m _global_forward_hooks \u001B[38;5;129;01mor\u001B[39;00m _global_forward_pre_hooks):\n\u001B[1;32m-> 1194\u001B[0m     \u001B[38;5;28;01mreturn\u001B[39;00m \u001B[43mforward_call\u001B[49m\u001B[43m(\u001B[49m\u001B[38;5;241;43m*\u001B[39;49m\u001B[38;5;28;43minput\u001B[39;49m\u001B[43m,\u001B[49m\u001B[43m \u001B[49m\u001B[38;5;241;43m*\u001B[39;49m\u001B[38;5;241;43m*\u001B[39;49m\u001B[43mkwargs\u001B[49m\u001B[43m)\u001B[49m\n\u001B[0;32m   1195\u001B[0m \u001B[38;5;66;03m# Do not call functions when jit is used\u001B[39;00m\n\u001B[0;32m   1196\u001B[0m full_backward_hooks, non_full_backward_hooks \u001B[38;5;241m=\u001B[39m [], []\n",
      "File \u001B[1;32mC:\\MySpace\\Programs\\anaconda3\\envs\\cvenv\\lib\\site-packages\\torch\\nn\\modules\\container.py:204\u001B[0m, in \u001B[0;36mSequential.forward\u001B[1;34m(self, input)\u001B[0m\n\u001B[0;32m    202\u001B[0m \u001B[38;5;28;01mdef\u001B[39;00m \u001B[38;5;21mforward\u001B[39m(\u001B[38;5;28mself\u001B[39m, \u001B[38;5;28minput\u001B[39m):\n\u001B[0;32m    203\u001B[0m     \u001B[38;5;28;01mfor\u001B[39;00m module \u001B[38;5;129;01min\u001B[39;00m \u001B[38;5;28mself\u001B[39m:\n\u001B[1;32m--> 204\u001B[0m         \u001B[38;5;28minput\u001B[39m \u001B[38;5;241m=\u001B[39m \u001B[43mmodule\u001B[49m\u001B[43m(\u001B[49m\u001B[38;5;28;43minput\u001B[39;49m\u001B[43m)\u001B[49m\n\u001B[0;32m    205\u001B[0m     \u001B[38;5;28;01mreturn\u001B[39;00m \u001B[38;5;28minput\u001B[39m\n",
      "File \u001B[1;32mC:\\MySpace\\Programs\\anaconda3\\envs\\cvenv\\lib\\site-packages\\torch\\nn\\modules\\module.py:1194\u001B[0m, in \u001B[0;36mModule._call_impl\u001B[1;34m(self, *input, **kwargs)\u001B[0m\n\u001B[0;32m   1190\u001B[0m \u001B[38;5;66;03m# If we don't have any hooks, we want to skip the rest of the logic in\u001B[39;00m\n\u001B[0;32m   1191\u001B[0m \u001B[38;5;66;03m# this function, and just call forward.\u001B[39;00m\n\u001B[0;32m   1192\u001B[0m \u001B[38;5;28;01mif\u001B[39;00m \u001B[38;5;129;01mnot\u001B[39;00m (\u001B[38;5;28mself\u001B[39m\u001B[38;5;241m.\u001B[39m_backward_hooks \u001B[38;5;129;01mor\u001B[39;00m \u001B[38;5;28mself\u001B[39m\u001B[38;5;241m.\u001B[39m_forward_hooks \u001B[38;5;129;01mor\u001B[39;00m \u001B[38;5;28mself\u001B[39m\u001B[38;5;241m.\u001B[39m_forward_pre_hooks \u001B[38;5;129;01mor\u001B[39;00m _global_backward_hooks\n\u001B[0;32m   1193\u001B[0m         \u001B[38;5;129;01mor\u001B[39;00m _global_forward_hooks \u001B[38;5;129;01mor\u001B[39;00m _global_forward_pre_hooks):\n\u001B[1;32m-> 1194\u001B[0m     \u001B[38;5;28;01mreturn\u001B[39;00m \u001B[43mforward_call\u001B[49m\u001B[43m(\u001B[49m\u001B[38;5;241;43m*\u001B[39;49m\u001B[38;5;28;43minput\u001B[39;49m\u001B[43m,\u001B[49m\u001B[43m \u001B[49m\u001B[38;5;241;43m*\u001B[39;49m\u001B[38;5;241;43m*\u001B[39;49m\u001B[43mkwargs\u001B[49m\u001B[43m)\u001B[49m\n\u001B[0;32m   1195\u001B[0m \u001B[38;5;66;03m# Do not call functions when jit is used\u001B[39;00m\n\u001B[0;32m   1196\u001B[0m full_backward_hooks, non_full_backward_hooks \u001B[38;5;241m=\u001B[39m [], []\n",
      "File \u001B[1;32mC:\\MySpace\\Programs\\anaconda3\\envs\\cvenv\\lib\\site-packages\\mmseg\\models\\backbones\\resnet.py:303\u001B[0m, in \u001B[0;36mBottleneck.forward\u001B[1;34m(self, x)\u001B[0m\n\u001B[0;32m    301\u001B[0m     out \u001B[38;5;241m=\u001B[39m cp\u001B[38;5;241m.\u001B[39mcheckpoint(_inner_forward, x)\n\u001B[0;32m    302\u001B[0m \u001B[38;5;28;01melse\u001B[39;00m:\n\u001B[1;32m--> 303\u001B[0m     out \u001B[38;5;241m=\u001B[39m \u001B[43m_inner_forward\u001B[49m\u001B[43m(\u001B[49m\u001B[43mx\u001B[49m\u001B[43m)\u001B[49m\n\u001B[0;32m    305\u001B[0m out \u001B[38;5;241m=\u001B[39m \u001B[38;5;28mself\u001B[39m\u001B[38;5;241m.\u001B[39mrelu(out)\n\u001B[0;32m    307\u001B[0m \u001B[38;5;28;01mreturn\u001B[39;00m out\n",
      "File \u001B[1;32mC:\\MySpace\\Programs\\anaconda3\\envs\\cvenv\\lib\\site-packages\\mmseg\\models\\backbones\\resnet.py:280\u001B[0m, in \u001B[0;36mBottleneck.forward.<locals>._inner_forward\u001B[1;34m(x)\u001B[0m\n\u001B[0;32m    277\u001B[0m \u001B[38;5;28;01mif\u001B[39;00m \u001B[38;5;28mself\u001B[39m\u001B[38;5;241m.\u001B[39mwith_plugins:\n\u001B[0;32m    278\u001B[0m     out \u001B[38;5;241m=\u001B[39m \u001B[38;5;28mself\u001B[39m\u001B[38;5;241m.\u001B[39mforward_plugin(out, \u001B[38;5;28mself\u001B[39m\u001B[38;5;241m.\u001B[39mafter_conv1_plugin_names)\n\u001B[1;32m--> 280\u001B[0m out \u001B[38;5;241m=\u001B[39m \u001B[38;5;28;43mself\u001B[39;49m\u001B[38;5;241;43m.\u001B[39;49m\u001B[43mconv2\u001B[49m\u001B[43m(\u001B[49m\u001B[43mout\u001B[49m\u001B[43m)\u001B[49m\n\u001B[0;32m    281\u001B[0m out \u001B[38;5;241m=\u001B[39m \u001B[38;5;28mself\u001B[39m\u001B[38;5;241m.\u001B[39mnorm2(out)\n\u001B[0;32m    282\u001B[0m out \u001B[38;5;241m=\u001B[39m \u001B[38;5;28mself\u001B[39m\u001B[38;5;241m.\u001B[39mrelu(out)\n",
      "File \u001B[1;32mC:\\MySpace\\Programs\\anaconda3\\envs\\cvenv\\lib\\site-packages\\torch\\nn\\modules\\module.py:1194\u001B[0m, in \u001B[0;36mModule._call_impl\u001B[1;34m(self, *input, **kwargs)\u001B[0m\n\u001B[0;32m   1190\u001B[0m \u001B[38;5;66;03m# If we don't have any hooks, we want to skip the rest of the logic in\u001B[39;00m\n\u001B[0;32m   1191\u001B[0m \u001B[38;5;66;03m# this function, and just call forward.\u001B[39;00m\n\u001B[0;32m   1192\u001B[0m \u001B[38;5;28;01mif\u001B[39;00m \u001B[38;5;129;01mnot\u001B[39;00m (\u001B[38;5;28mself\u001B[39m\u001B[38;5;241m.\u001B[39m_backward_hooks \u001B[38;5;129;01mor\u001B[39;00m \u001B[38;5;28mself\u001B[39m\u001B[38;5;241m.\u001B[39m_forward_hooks \u001B[38;5;129;01mor\u001B[39;00m \u001B[38;5;28mself\u001B[39m\u001B[38;5;241m.\u001B[39m_forward_pre_hooks \u001B[38;5;129;01mor\u001B[39;00m _global_backward_hooks\n\u001B[0;32m   1193\u001B[0m         \u001B[38;5;129;01mor\u001B[39;00m _global_forward_hooks \u001B[38;5;129;01mor\u001B[39;00m _global_forward_pre_hooks):\n\u001B[1;32m-> 1194\u001B[0m     \u001B[38;5;28;01mreturn\u001B[39;00m \u001B[43mforward_call\u001B[49m\u001B[43m(\u001B[49m\u001B[38;5;241;43m*\u001B[39;49m\u001B[38;5;28;43minput\u001B[39;49m\u001B[43m,\u001B[49m\u001B[43m \u001B[49m\u001B[38;5;241;43m*\u001B[39;49m\u001B[38;5;241;43m*\u001B[39;49m\u001B[43mkwargs\u001B[49m\u001B[43m)\u001B[49m\n\u001B[0;32m   1195\u001B[0m \u001B[38;5;66;03m# Do not call functions when jit is used\u001B[39;00m\n\u001B[0;32m   1196\u001B[0m full_backward_hooks, non_full_backward_hooks \u001B[38;5;241m=\u001B[39m [], []\n",
      "File \u001B[1;32mC:\\MySpace\\Programs\\anaconda3\\envs\\cvenv\\lib\\site-packages\\torch\\nn\\modules\\conv.py:463\u001B[0m, in \u001B[0;36mConv2d.forward\u001B[1;34m(self, input)\u001B[0m\n\u001B[0;32m    462\u001B[0m \u001B[38;5;28;01mdef\u001B[39;00m \u001B[38;5;21mforward\u001B[39m(\u001B[38;5;28mself\u001B[39m, \u001B[38;5;28minput\u001B[39m: Tensor) \u001B[38;5;241m-\u001B[39m\u001B[38;5;241m>\u001B[39m Tensor:\n\u001B[1;32m--> 463\u001B[0m     \u001B[38;5;28;01mreturn\u001B[39;00m \u001B[38;5;28;43mself\u001B[39;49m\u001B[38;5;241;43m.\u001B[39;49m\u001B[43m_conv_forward\u001B[49m\u001B[43m(\u001B[49m\u001B[38;5;28;43minput\u001B[39;49m\u001B[43m,\u001B[49m\u001B[43m \u001B[49m\u001B[38;5;28;43mself\u001B[39;49m\u001B[38;5;241;43m.\u001B[39;49m\u001B[43mweight\u001B[49m\u001B[43m,\u001B[49m\u001B[43m \u001B[49m\u001B[38;5;28;43mself\u001B[39;49m\u001B[38;5;241;43m.\u001B[39;49m\u001B[43mbias\u001B[49m\u001B[43m)\u001B[49m\n",
      "File \u001B[1;32mC:\\MySpace\\Programs\\anaconda3\\envs\\cvenv\\lib\\site-packages\\torch\\nn\\modules\\conv.py:459\u001B[0m, in \u001B[0;36mConv2d._conv_forward\u001B[1;34m(self, input, weight, bias)\u001B[0m\n\u001B[0;32m    455\u001B[0m \u001B[38;5;28;01mif\u001B[39;00m \u001B[38;5;28mself\u001B[39m\u001B[38;5;241m.\u001B[39mpadding_mode \u001B[38;5;241m!=\u001B[39m \u001B[38;5;124m'\u001B[39m\u001B[38;5;124mzeros\u001B[39m\u001B[38;5;124m'\u001B[39m:\n\u001B[0;32m    456\u001B[0m     \u001B[38;5;28;01mreturn\u001B[39;00m F\u001B[38;5;241m.\u001B[39mconv2d(F\u001B[38;5;241m.\u001B[39mpad(\u001B[38;5;28minput\u001B[39m, \u001B[38;5;28mself\u001B[39m\u001B[38;5;241m.\u001B[39m_reversed_padding_repeated_twice, mode\u001B[38;5;241m=\u001B[39m\u001B[38;5;28mself\u001B[39m\u001B[38;5;241m.\u001B[39mpadding_mode),\n\u001B[0;32m    457\u001B[0m                     weight, bias, \u001B[38;5;28mself\u001B[39m\u001B[38;5;241m.\u001B[39mstride,\n\u001B[0;32m    458\u001B[0m                     _pair(\u001B[38;5;241m0\u001B[39m), \u001B[38;5;28mself\u001B[39m\u001B[38;5;241m.\u001B[39mdilation, \u001B[38;5;28mself\u001B[39m\u001B[38;5;241m.\u001B[39mgroups)\n\u001B[1;32m--> 459\u001B[0m \u001B[38;5;28;01mreturn\u001B[39;00m \u001B[43mF\u001B[49m\u001B[38;5;241;43m.\u001B[39;49m\u001B[43mconv2d\u001B[49m\u001B[43m(\u001B[49m\u001B[38;5;28;43minput\u001B[39;49m\u001B[43m,\u001B[49m\u001B[43m \u001B[49m\u001B[43mweight\u001B[49m\u001B[43m,\u001B[49m\u001B[43m \u001B[49m\u001B[43mbias\u001B[49m\u001B[43m,\u001B[49m\u001B[43m \u001B[49m\u001B[38;5;28;43mself\u001B[39;49m\u001B[38;5;241;43m.\u001B[39;49m\u001B[43mstride\u001B[49m\u001B[43m,\u001B[49m\n\u001B[0;32m    460\u001B[0m \u001B[43m                \u001B[49m\u001B[38;5;28;43mself\u001B[39;49m\u001B[38;5;241;43m.\u001B[39;49m\u001B[43mpadding\u001B[49m\u001B[43m,\u001B[49m\u001B[43m \u001B[49m\u001B[38;5;28;43mself\u001B[39;49m\u001B[38;5;241;43m.\u001B[39;49m\u001B[43mdilation\u001B[49m\u001B[43m,\u001B[49m\u001B[43m \u001B[49m\u001B[38;5;28;43mself\u001B[39;49m\u001B[38;5;241;43m.\u001B[39;49m\u001B[43mgroups\u001B[49m\u001B[43m)\u001B[49m\n",
      "\u001B[1;31mOutOfMemoryError\u001B[0m: CUDA out of memory. Tried to allocate 32.00 MiB (GPU 0; 8.00 GiB total capacity; 7.21 GiB already allocated; 0 bytes free; 7.31 GiB reserved in total by PyTorch) If reserved memory is >> allocated memory try setting max_split_size_mb to avoid fragmentation.  See documentation for Memory Management and PYTORCH_CUDA_ALLOC_CONF"
     ]
    }
   ],
   "source": [
    "from mmseg.datasets import build_dataset\n",
    "from mmseg.models import build_segmentor\n",
    "from mmseg.apis import train_segmentor\n",
    "import mmcv\n",
    "import os\n",
    "os.environ['WANDB_NOTEBOOK_NAME'] = 'flow.ipynb'\n",
    "# Build the dataset\n",
    "datasets = [build_dataset(cfg.data.train)]\n",
    "\n",
    "# Build the detector\n",
    "model = build_segmentor(cfg.model)\n",
    "# Add an attribute for visualization convenience\n",
    "model.CLASSES = datasets[0].CLASSES\n",
    "\n",
    "# Create work_dir\n",
    "mmcv.mkdir_or_exist(os.path.abspath(cfg.work_dir))\n",
    "train_segmentor(model, datasets, cfg, distributed=False, validate=True,\n",
    "                meta=dict())"
   ],
   "metadata": {
    "collapsed": false,
    "pycharm": {
     "name": "#%%\n"
    }
   }
  },
  {
   "cell_type": "code",
   "execution_count": 10,
   "outputs": [
    {
     "name": "stderr",
     "output_type": "stream",
     "text": [
      "Town: Town03 | Waypoint: waypoint_167:  46%|████▌     | 77/169 [34:44<41:30, 27.07s/it, Count: 19]  \n"
     ]
    },
    {
     "ename": "KeyboardInterrupt",
     "evalue": "",
     "output_type": "error",
     "traceback": [
      "\u001B[1;31m---------------------------------------------------------------------------\u001B[0m",
      "\u001B[1;31mKeyboardInterrupt\u001B[0m                         Traceback (most recent call last)",
      "Cell \u001B[1;32mIn[10], line 26\u001B[0m\n\u001B[0;32m     24\u001B[0m         \u001B[38;5;28;01mfor\u001B[39;00m j \u001B[38;5;129;01min\u001B[39;00m \u001B[38;5;28mrange\u001B[39m(image\u001B[38;5;241m.\u001B[39mshape[\u001B[38;5;241m1\u001B[39m]):\n\u001B[0;32m     25\u001B[0m             cs \u001B[38;5;241m=\u001B[39m image[i, j]\n\u001B[1;32m---> 26\u001B[0m             labels\u001B[38;5;241m.\u001B[39madd(\u001B[38;5;28mtuple\u001B[39m(cs)[:\u001B[38;5;241m3\u001B[39m])\n\u001B[0;32m     28\u001B[0m t\u001B[38;5;241m.\u001B[39mset_description_str(\u001B[38;5;124mf\u001B[39m\u001B[38;5;124m'\u001B[39m\u001B[38;5;124mTown: \u001B[39m\u001B[38;5;132;01m{\u001B[39;00mtown_name\u001B[38;5;132;01m}\u001B[39;00m\u001B[38;5;124m | Waypoint: \u001B[39m\u001B[38;5;132;01m{\u001B[39;00mwaypoint\u001B[38;5;132;01m}\u001B[39;00m\u001B[38;5;124m'\u001B[39m)\n\u001B[0;32m     29\u001B[0m t\u001B[38;5;241m.\u001B[39mset_postfix_str(\u001B[38;5;124mf\u001B[39m\u001B[38;5;124m'\u001B[39m\u001B[38;5;124mCount: \u001B[39m\u001B[38;5;132;01m{\u001B[39;00m\u001B[38;5;28mlen\u001B[39m(labels)\u001B[38;5;132;01m}\u001B[39;00m\u001B[38;5;124m'\u001B[39m)\n",
      "\u001B[1;31mKeyboardInterrupt\u001B[0m: "
     ]
    }
   ],
   "source": [
    "from PIL import Image\n",
    "import numpy as np\n",
    "from tqdm import tqdm\n",
    "\n",
    "PATH = f'../data/town/'\n",
    "towns_path = os.listdir(PATH)\n",
    "\n",
    "labels = set()\n",
    "for town_name in towns_path:\n",
    "    town_path = os.path.join(PATH, town_name)\n",
    "    waypoints = os.listdir(town_path)\n",
    "    with tqdm(total=len(waypoints)) as t:\n",
    "        for waypoint in waypoints:\n",
    "            waypoint_path = os.path.join(town_path, waypoint)\n",
    "            masks_path = os.path.join(waypoint_path, 'seg')\n",
    "            mask_list = os.listdir(masks_path)\n",
    "            for mask in mask_list:\n",
    "                if 'color' not in mask:\n",
    "                    continue\n",
    "\n",
    "                image = Image.open(os.path.join(masks_path, mask))\n",
    "                image = np.array(image)\n",
    "                for i in range(image.shape[0]):\n",
    "                    for j in range(image.shape[1]):\n",
    "                        cs = image[i, j]\n",
    "                        labels.add(tuple(cs)[:3])\n",
    "\n",
    "            t.set_description_str(f'Town: {town_name} | Waypoint: {waypoint}')\n",
    "            t.set_postfix_str(f'Count: {len(labels)}')\n",
    "            t.update(1)"
   ],
   "metadata": {
    "collapsed": false,
    "pycharm": {
     "name": "#%%\n"
    }
   }
  },
  {
   "cell_type": "code",
   "execution_count": 11,
   "outputs": [
    {
     "data": {
      "text/plain": "{(0, 0, 142),\n (45, 60, 150),\n (70, 70, 70),\n (70, 130, 180),\n (81, 0, 81),\n (100, 40, 40),\n (102, 102, 156),\n (107, 142, 35),\n (110, 190, 160),\n (128, 64, 128),\n (145, 170, 100),\n (150, 100, 100),\n (153, 153, 153),\n (157, 234, 50),\n (170, 120, 50),\n (220, 220, 0),\n (230, 150, 140),\n (244, 35, 232),\n (250, 170, 30)}"
     },
     "execution_count": 11,
     "metadata": {},
     "output_type": "execute_result"
    }
   ],
   "source": [
    "labels"
   ],
   "metadata": {
    "collapsed": false,
    "pycharm": {
     "name": "#%%\n"
    }
   }
  }
 ],
 "metadata": {
  "kernelspec": {
   "display_name": "Python 3",
   "language": "python",
   "name": "python3"
  },
  "language_info": {
   "codemirror_mode": {
    "name": "ipython",
    "version": 2
   },
   "file_extension": ".py",
   "mimetype": "text/x-python",
   "name": "python",
   "nbconvert_exporter": "python",
   "pygments_lexer": "ipython2",
   "version": "2.7.6"
  }
 },
 "nbformat": 4,
 "nbformat_minor": 0
}